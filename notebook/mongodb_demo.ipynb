{
 "cells": [
  {
   "cell_type": "code",
   "execution_count": 35,
   "id": "03e3c7e5",
   "metadata": {},
   "outputs": [],
   "source": [
    "import pandas as pd\n",
    "from dotenv import load_dotenv\n",
    "import os\n",
    "load_dotenv()\n",
    "load_data=os.getenv('data_url')\n",
    "url=os.getenv(\"Connection_url\")"
   ]
  },
  {
   "cell_type": "code",
   "execution_count": 21,
   "id": "cf94dc8e",
   "metadata": {},
   "outputs": [],
   "source": [
    "pd.read_csv(load_data).to_csv(r\"D:\\Vikash_dash_Demo_Spam_MLOps\\MLFLOW_Project_Insurance\\notebook\\data.csv\",index=False)"
   ]
  },
  {
   "cell_type": "code",
   "execution_count": 42,
   "id": "e4544db1",
   "metadata": {},
   "outputs": [],
   "source": [
    "data=pd.read_csv(r\"D:\\Vikash_dash_Demo_Spam_MLOps\\MLFLOW_Project_Insurance\\notebook\\data.csv\")"
   ]
  },
  {
   "cell_type": "code",
   "execution_count": 38,
   "id": "0160d1aa",
   "metadata": {},
   "outputs": [],
   "source": [
    "#Pushing data into MongoDB database\n",
    "df=data.to_dict(orient='records')\n",
    "#df"
   ]
  },
  {
   "cell_type": "code",
   "execution_count": null,
   "id": "4f772338",
   "metadata": {},
   "outputs": [
    {
     "name": "stdout",
     "output_type": "stream",
     "text": [
      "Pinged your deployment. You successfully connected to MongoDB!\n"
     ]
    }
   ],
   "source": [
    "from pymongo import MongoClient\n",
    "Project_Name = \"MLOPS_Insurance_Data\"\n",
    "Cluster_Name = \"ClusterMLOPSINSURANCE\"\n",
    "client=MongoClient(url)\n",
    "db=client[Project_Name]\n",
    "collection=db[Cluster_Name]\n",
    "\n",
    "\n",
    "\n",
    "try:\n",
    "    client.admin.command('ping')\n",
    "    print(\"Pinged your deployment. You successfully connected to MongoDB!\")\n",
    "except Exception as e:\n",
    "    print(e)\n",
    "\n",
    "collection.insert_many(df)\n"
   ]
  },
  {
   "cell_type": "code",
   "execution_count": null,
   "id": "d6d0b3ef",
   "metadata": {},
   "outputs": [],
   "source": []
  }
 ],
 "metadata": {
  "kernelspec": {
   "display_name": ".venv",
   "language": "python",
   "name": "python3"
  },
  "language_info": {
   "codemirror_mode": {
    "name": "ipython",
    "version": 3
   },
   "file_extension": ".py",
   "mimetype": "text/x-python",
   "name": "python",
   "nbconvert_exporter": "python",
   "pygments_lexer": "ipython3",
   "version": "3.11.3"
  }
 },
 "nbformat": 4,
 "nbformat_minor": 5
}
